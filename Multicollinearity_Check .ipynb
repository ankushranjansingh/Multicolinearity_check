{
 "cells": [
  {
   "cell_type": "code",
   "execution_count": null,
   "id": "070632ab",
   "metadata": {},
   "outputs": [],
   "source": [
    "def vif_score(x):\n",
    "    scaler = StandardScaler()\n",
    "    arr = scaler.fit_transform(x)\n",
    "    return pd.DataFrame([[x.columns[i], variance_inflation_factor(arr,i)] for i in range(arr.shape[1])], columns=[\"FEATURE\", \"VIF_SCORE\"])\n"
   ]
  },
  {
   "cell_type": "markdown",
   "id": "0ccffbb2",
   "metadata": {},
   "source": [
    "# Output - "
   ]
  },
  {
   "cell_type": "code",
   "execution_count": null,
   "id": "9f7c7e71",
   "metadata": {},
   "outputs": [],
   "source": [
    "\tFEATURE\tVIF_SCORE\n",
    "0\tPregnancies\t1.449056\n",
    "1\tGlucose\t1.304263\n",
    "2\tBloodPressure\t1.262686\n",
    "3\tSkinThickness\t1.470049\n",
    "4\tInsulin\t1.271017\n",
    "5\tBMI\t1.513160\n",
    "6\tDiabetesPedigreeFunction\t1.042300\n",
    "7\tAge\t1.662728"
   ]
  }
 ],
 "metadata": {
  "kernelspec": {
   "display_name": "Python 3 (ipykernel)",
   "language": "python",
   "name": "python3"
  },
  "language_info": {
   "codemirror_mode": {
    "name": "ipython",
    "version": 3
   },
   "file_extension": ".py",
   "mimetype": "text/x-python",
   "name": "python",
   "nbconvert_exporter": "python",
   "pygments_lexer": "ipython3",
   "version": "3.9.12"
  }
 },
 "nbformat": 4,
 "nbformat_minor": 5
}
